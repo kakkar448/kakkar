{
 "cells": [
  {
   "cell_type": "markdown",
   "id": "36d36534-9778-407a-8bf1-494daeefd729",
   "metadata": {},
   "source": [
    "# Notebook for Data Science tools"
   ]
  },
  {
   "cell_type": "markdown",
   "id": "3c653668-b8ff-44ad-86ec-3a543875f819",
   "metadata": {},
   "source": [
    "In this notebook, Data Science Tools and environment are summarized."
   ]
  },
  {
   "cell_type": "markdown",
   "id": "e8eb101f-d547-4777-95bc-83ac8636f45b",
   "metadata": {},
   "source": [
    "Some of the popular languages that Data Scientists use are:\n",
    "\n",
    "1. Python\n",
    "2. C++\n",
    "3. SQL\n",
    "4. JAVA etc"
   ]
  },
  {
   "cell_type": "markdown",
   "id": "dfbf1ff4-f318-43f0-8b9d-1b78c2a4a49c",
   "metadata": {},
   "source": [
    "list of data science libraries used by data scientist\n",
    "\n",
    "1. tensorflow\n",
    "2. Numpy\n",
    "3. Scipy\n",
    "4. Pytorch\n",
    "5. Matplotlib\n",
    "6. Pandas etc.."
   ]
  },
  {
   "cell_type": "markdown",
   "id": "2b4419bc-e938-4cdd-bd13-79d1b751b88b",
   "metadata": {},
   "source": [
    "### DATA SCIENCE TOOLS\n",
    "\n",
    "| --- | --- | \n",
    "| 1 | BIGML | \n",
    "| --- | --- | \n",
    "| 2 | SAS | "
   ]
  },
  {
   "cell_type": "markdown",
   "id": "4a51fb3b-9d59-4926-8806-0622f0780c7e",
   "metadata": {},
   "source": [
    "##  Below are a few examples of evaluating arithmetic expressions in Python"
   ]
  },
  {
   "cell_type": "code",
   "execution_count": 3,
   "id": "5fb52134-aa96-4b35-acef-0968a1440125",
   "metadata": {},
   "outputs": [
    {
     "data": {
      "text/plain": [
       "10"
      ]
     },
     "execution_count": 3,
     "metadata": {},
     "output_type": "execute_result"
    }
   ],
   "source": [
    "## Arithmetic operations\n",
    "(2*3)+4"
   ]
  },
  {
   "cell_type": "code",
   "execution_count": 5,
   "id": "78f80a01-cc58-47f2-b32d-5c829dfb22c5",
   "metadata": {},
   "outputs": [
    {
     "data": {
      "text/plain": [
       "36"
      ]
     },
     "execution_count": 5,
     "metadata": {},
     "output_type": "execute_result"
    }
   ],
   "source": [
    "code1 = compile(\"(15 + 3) * 2\", \"<string>\", \"eval\")\n",
    "eval(code1)\n",
    "# Result: 24"
   ]
  },
  {
   "cell_type": "markdown",
   "id": "dcb816fd-abff-43ce-a8c3-a942897e467f",
   "metadata": {},
   "source": [
    "This will convert 200 minutes to hours by diving by 60"
   ]
  },
  {
   "cell_type": "code",
   "execution_count": 7,
   "id": "fcb2b561-15c5-4288-b3d3-eaac46a2a3c4",
   "metadata": {},
   "outputs": [
    {
     "name": "stdout",
     "output_type": "stream",
     "text": [
      "0 days, 3.3333333333333335 hours, 0 mins. \n"
     ]
    }
   ],
   "source": [
    "import math\n",
    "days = 0\n",
    "hours = 0\n",
    "mins = 0\n",
    "\n",
    "time = 200\n",
    "#days = time / 1440\n",
    "leftover_minutes = time % 1440\n",
    "hours = leftover_minutes / 60\n",
    "#mins = time - (days*1440) - (hours*60)\n",
    "print(str(days) + \" days, \" + str(hours) + \" hours, \" + str(mins) +  \" mins. \")\n",
    "\n"
   ]
  },
  {
   "cell_type": "markdown",
   "id": "6ca2cdde-c35e-4942-b084-00e24206e729",
   "metadata": {},
   "source": [
    "#  Objectives\n",
    "Key takeaways from a this Coursera course focused on data science tools include gaining proficiency in essential \n",
    "programming languages like Python and R, understanding data manipulation and visualization techniques."
   ]
  },
  {
   "cell_type": "markdown",
   "id": "3b827118-45a5-49e5-aaf5-0b1699ce5958",
   "metadata": {},
   "source": [
    "# Author:\n",
    "Mohit Kumar Kakkar"
   ]
  },
  {
   "cell_type": "code",
   "execution_count": null,
   "id": "3614bba3-0eef-4bff-b308-64ee73d6e10c",
   "metadata": {},
   "outputs": [],
   "source": []
  }
 ],
 "metadata": {
  "kernelspec": {
   "display_name": "Python 3 (ipykernel)",
   "language": "python",
   "name": "python3"
  },
  "language_info": {
   "codemirror_mode": {
    "name": "ipython",
    "version": 3
   },
   "file_extension": ".py",
   "mimetype": "text/x-python",
   "name": "python",
   "nbconvert_exporter": "python",
   "pygments_lexer": "ipython3",
   "version": "3.12.4"
  }
 },
 "nbformat": 4,
 "nbformat_minor": 5
}
